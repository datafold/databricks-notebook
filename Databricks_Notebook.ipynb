{
 "cells": [
  {
   "cell_type": "code",
   "execution_count": null,
   "metadata": {},
   "outputs": [],
   "source": [
    "import os\n",
    "import pathlib\n",
    "\n",
    "# Install dependencies\n",
    "LOCAL_DATABRICKS_NOTEBOOK_PATH = os.getenv('LOCAL_DATABRICKS_NOTEBOOK_PATH')\n",
    "if LOCAL_DATABRICKS_NOTEBOOK_PATH and pathlib.Path(LOCAL_DATABRICKS_NOTEBOOK_PATH).exists():\n",
    "    print(f\"Installing databricks-notebook from {LOCAL_DATABRICKS_NOTEBOOK_PATH}\")\n",
    "    %pip install --editable \"{LOCAL_DATABRICKS_NOTEBOOK_PATH}\"\n",
    "else:\n",
    "    print(\"Installing databricks-notebook from git\")\n",
    "    %pip install git+https://github.com/datafold/databricks-notebook.git\n",
    "\n",
    "# Restart to make dependencies available\n",
    "# %restart_python on databricks notebook\n",
    "import IPython\n",
    "app = IPython.Application.instance()\n",
    "app.kernel.do_shutdown(True)\n"
   ]
  },
  {
   "cell_type": "code",
   "execution_count": null,
   "metadata": {},
   "outputs": [],
   "source": [
    "org_token = \"token1\"\n",
    "\n",
    "from databricks_notebook import create_organization\n",
    "api_token, org_id = create_organization(org_token)"
   ]
  },
  {
   "cell_type": "code",
   "execution_count": null,
   "metadata": {},
   "outputs": [],
   "source": [
    "queries_to_translate = [\n",
    "\"\"\"\n",
    "-- Monthly Sales Analysis Report\n",
    "-- Analyzes sales trends with category rankings\n",
    "\n",
    "drop table if exists DF_RESULT_QUERY_1_SQL_2234AC5;\n",
    "create table DF_RESULT_QUERY_1_SQL_2234AC5 AS (\n",
    "    WITH monthly_sales_2234AC5 AS (\n",
    "        SELECT\n",
    "            PRODUCT_ID,\n",
    "            PRODUCT_NAME,\n",
    "            CATEGORY,\n",
    "            DATE_TRUNC('MONTH', SALE_DATE) AS SALE_MONTH,\n",
    "            SUM(QUANTITY) AS TOTAL_QUANTITY,\n",
    "            SUM(T_REVENUE) AS T_REVENUE,\n",
    "            COUNT(DISTINCT CUSTOMER_ID) AS UNIQUE_CUSTOMERS\n",
    "        FROM DMA_TRANSLATIONS.DATAFOLD_TMP.SALES_TRANSACTIONS_2234AC5\n",
    "        GROUP BY\n",
    "            PRODUCT_ID,\n",
    "            PRODUCT_NAME,\n",
    "            CATEGORY,\n",
    "            DATE_TRUNC('MONTH', SALE_DATE)\n",
    "    )\n",
    "    SELECT\n",
    "        PRODUCT_ID,\n",
    "        PRODUCT_NAME,\n",
    "        CATEGORY,\n",
    "        SALE_MONTH,\n",
    "        TOTAL_QUANTITY,\n",
    "        T_REVENUE,\n",
    "        UNIQUE_CUSTOMERS,\n",
    "        -- Rank products by t_revenue within each category and month\n",
    "        RANK() OVER (\n",
    "            PARTITION BY CATEGORY, SALE_MONTH\n",
    "            ORDER BY T_REVENUE DESC\n",
    "        ) AS CATEGORY_RANK\n",
    "    FROM monthly_sales_2234AC5\n",
    "    QUALIFY CATEGORY_RANK <= 3\n",
    "    ORDER BY\n",
    "        SALE_MONTH DESC,\n",
    "        CATEGORY,\n",
    "        T_REVENUE DESC\n",
    ");\n",
    "\"\"\"\n",
    "]\n",
    "\n",
    "from databricks_notebook import translate_queries, view_translation_results_as_html\n",
    "\n",
    "project_id, translation_id = translate_queries(api_token, queries_to_translate)\n",
    "html = view_translation_results_as_html(api_token, project_id, translation_id)\n",
    "\n",
    "from IPython.display import HTML, display\n",
    "display(HTML(html))"
   ]
  },
  {
   "cell_type": "code",
   "execution_count": null,
   "metadata": {},
   "outputs": [],
   "source": []
  }
 ],
 "metadata": {
  "application/vnd.databricks.v1+notebook": {
   "computePreferences": null,
   "dashboards": [],
   "environmentMetadata": {
    "base_environment": "",
    "environment_version": "4"
   },
   "inputWidgetPreferences": null,
   "language": "python",
   "notebookMetadata": {
    "pythonIndentUnit": 4
   },
   "notebookName": "Live Translations for Databricks",
   "widgets": {}
  },
  "kernelspec": {
   "display_name": "Python 3 (ipykernel)",
   "language": "python",
   "name": "python3"
  },
  "language_info": {
   "codemirror_mode": {
    "name": "ipython",
    "version": 3
   },
   "file_extension": ".py",
   "mimetype": "text/x-python",
   "name": "python",
   "nbconvert_exporter": "python",
   "pygments_lexer": "ipython3",
   "version": "3.12.3"
  }
 },
 "nbformat": 4,
 "nbformat_minor": 4
}
